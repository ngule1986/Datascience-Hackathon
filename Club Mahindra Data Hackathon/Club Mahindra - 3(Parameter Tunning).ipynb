{
 "cells": [
  {
   "cell_type": "markdown",
   "metadata": {},
   "source": [
    "### `ENVIROMENT & DATA`"
   ]
  },
  {
   "cell_type": "code",
   "execution_count": 1,
   "metadata": {},
   "outputs": [],
   "source": [
    "import numpy as np\n",
    "import pandas as pd\n",
    "\n",
    "import warnings\n",
    "warnings.filterwarnings(\"ignore\")"
   ]
  },
  {
   "cell_type": "code",
   "execution_count": 2,
   "metadata": {},
   "outputs": [],
   "source": [
    "train = pd.read_csv('train_trans.csv')\n",
    "test = pd.read_csv('test_trans.csv')"
   ]
  },
  {
   "cell_type": "markdown",
   "metadata": {},
   "source": [
    "### `TRAIN TEST SPLIT`"
   ]
  },
  {
   "cell_type": "code",
   "execution_count": 3,
   "metadata": {},
   "outputs": [],
   "source": [
    "from sklearn.model_selection import train_test_split\n",
    "\n",
    "X = train.drop('amount_spent_per_room_night_scaled', axis=1)\n",
    "y = train.amount_spent_per_room_night_scaled\n",
    "\n",
    "x_train, x_test, y_train, y_test = train_test_split(X, y, test_size=0.2, random_state=0, shuffle=True)"
   ]
  },
  {
   "cell_type": "code",
   "execution_count": 4,
   "metadata": {},
   "outputs": [],
   "source": [
    "cat_columns = [0, 1, 3, 4, 5, 6, 8, 9, 10, 12, 13, 14, 15, 16, 17, 18, 20, 21, 22]"
   ]
  },
  {
   "cell_type": "markdown",
   "metadata": {},
   "source": [
    "### `MODEL`"
   ]
  },
  {
   "cell_type": "code",
   "execution_count": 5,
   "metadata": {},
   "outputs": [],
   "source": [
    "from catboost import Pool as pool\n",
    "from catboost import CatBoostRegressor as cbr\n",
    "\n",
    "import hyperopt\n",
    "from hyperopt import hp, fmin, tpe, STATUS_OK, Trials"
   ]
  },
  {
   "cell_type": "code",
   "execution_count": 6,
   "metadata": {},
   "outputs": [],
   "source": [
    "D_train = pool(x_train, y_train, cat_features = cat_columns)\n",
    "D_val = pool(x_test, y_test, cat_features = cat_columns)"
   ]
  },
  {
   "cell_type": "code",
   "execution_count": 7,
   "metadata": {},
   "outputs": [
    {
     "name": "stdout",
     "output_type": "stream",
     "text": [
      "\n",
      "CatBoost objective call #1 cur_best_loss=    inf\n",
      "\n",
      "CatBoost objective call #2 cur_best_loss=0.98934\n",
      "\n",
      "CatBoost objective call #3 cur_best_loss=0.98934\n",
      "\n",
      "CatBoost objective call #4 cur_best_loss=0.98910\n",
      "\n",
      "CatBoost objective call #5 cur_best_loss=0.98910\n",
      "\n",
      "CatBoost objective call #6 cur_best_loss=0.98910\n",
      "\n",
      "CatBoost objective call #7 cur_best_loss=0.98910\n",
      "\n",
      "CatBoost objective call #8 cur_best_loss=0.98910\n",
      "\n",
      "CatBoost objective call #9 cur_best_loss=0.98910\n",
      "\n",
      "CatBoost objective call #10 cur_best_loss=0.98910\n",
      "--------------------------------------------------\n",
      "The best params:\n",
      "{'depth': 8.0, 'l2_leaf_reg': 5.2643768281007945, 'learning_rate': 0.15208871780007424}\n",
      "\n",
      "\n",
      "\n"
     ]
    }
   ],
   "source": [
    "# number of random sampled hyperparameters\n",
    "N_HYPEROPT_PROBES = 10\n",
    "\n",
    "# the sampling aplgorithm \n",
    "HYPEROPT_ALGO = tpe.suggest \n",
    "\n",
    "def get_catboost_params(space):\n",
    "    params = dict()\n",
    "    params['learning_rate'] = space['learning_rate']\n",
    "    params['depth'] = int(space['depth'])\n",
    "    params['l2_leaf_reg'] = space['l2_leaf_reg']\n",
    "    params['one_hot_max_size'] = space['one_hot_max_size']\n",
    "    return params\n",
    "\n",
    "# ---------------------------------------------------------------------\n",
    "obj_call_count = 0\n",
    "cur_best_loss = np.inf\n",
    "log_writer = open( 'catboost-hyperopt-log.txt', 'w' )\n",
    "\n",
    "\n",
    "def objective(space):\n",
    "    global obj_call_count, cur_best_loss\n",
    "\n",
    "    obj_call_count += 1\n",
    "\n",
    "    print('\\nCatBoost objective call #{} cur_best_loss={:7.5f}'.format(obj_call_count,cur_best_loss) )\n",
    "\n",
    "    params = get_catboost_params(space)\n",
    "\n",
    "    \n",
    "    model = cbr(iterations = 200, \n",
    "                learning_rate=params['learning_rate'], \n",
    "                depth =int(params['depth']), \n",
    "#                 task_type = \"CPU\",\n",
    "                eval_metric = \"RMSE\",\n",
    "                l2_leaf_reg=params['l2_leaf_reg'],\n",
    "                bagging_temperature=1,\n",
    "                one_hot_max_size=params['one_hot_max_size'],\n",
    "                use_best_model=True)\n",
    "\n",
    "    model.fit(D_train, eval_set=D_val, silent=True)\n",
    "    val_loss = model.best_score_['validation_0']['RMSE']\n",
    "    \n",
    "    if val_loss<cur_best_loss:\n",
    "      cur_best_loss = val_loss\n",
    "\n",
    "    return{'loss':cur_best_loss, 'status': STATUS_OK }\n",
    "\n",
    "\n",
    "# --------------------------------------------------------------------------------\n",
    "\n",
    "space ={\n",
    "        'depth': hp.quniform(\"depth\", 4, 12, 1),\n",
    "        'learning_rate': hp.loguniform('learning_rate', -3.0, -0.7),\n",
    "        'l2_leaf_reg': hp.uniform('l2_leaf_reg', 1, 10),\n",
    "        'one_hot_max_size': hp.quniform(\"one_hot_max_size\", 0, 15, 1)\n",
    "       }\n",
    "\n",
    "\n",
    "trials = Trials()\n",
    "best = hyperopt.fmin(fn=objective,\n",
    "                     space=space,\n",
    "                     algo=HYPEROPT_ALGO,\n",
    "                     max_evals=N_HYPEROPT_PROBES,\n",
    "                     trials=trials)\n",
    "\n",
    "print('-'*50)\n",
    "print('The best params:')\n",
    "print( best )\n",
    "print('\\n\\n')"
   ]
  },
  {
   "cell_type": "code",
   "execution_count": 9,
   "metadata": {},
   "outputs": [],
   "source": [
    "## all features \n",
    "# The best params:\n",
    "# {'depth': 8.0, 'l2_leaf_reg': 5.2643768281007945, 'learning_rate': 0.15208871780007424}"
   ]
  },
  {
   "cell_type": "code",
   "execution_count": null,
   "metadata": {},
   "outputs": [],
   "source": []
  },
  {
   "cell_type": "code",
   "execution_count": null,
   "metadata": {},
   "outputs": [],
   "source": []
  }
 ],
 "metadata": {
  "kernelspec": {
   "display_name": "Python 3",
   "language": "python",
   "name": "python3"
  },
  "language_info": {
   "codemirror_mode": {
    "name": "ipython",
    "version": 3
   },
   "file_extension": ".py",
   "mimetype": "text/x-python",
   "name": "python",
   "nbconvert_exporter": "python",
   "pygments_lexer": "ipython3",
   "version": "3.7.1"
  }
 },
 "nbformat": 4,
 "nbformat_minor": 2
}
